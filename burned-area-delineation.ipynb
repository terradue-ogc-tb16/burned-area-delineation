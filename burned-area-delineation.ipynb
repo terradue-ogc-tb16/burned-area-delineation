{
 "cells": [
  {
   "cell_type": "markdown",
   "metadata": {},
   "source": [
    "## Burned area delineation"
   ]
  },
  {
   "cell_type": "code",
   "execution_count": 1,
   "metadata": {},
   "outputs": [],
   "source": [
    "workflow = dict([('id', 'burned-area-delineation'),\n",
    "                ('label', 'Burned area delineation'),\n",
    "                ('doc', 'Burned area delineation using two techniques')])\n"
   ]
  },
  {
   "cell_type": "code",
   "execution_count": 2,
   "metadata": {},
   "outputs": [],
   "source": [
    "pre_event = dict([('id', 'pre_event'), \n",
    "                  ('label', 'Pre-event product for burned area delineation'),\n",
    "                  ('doc', 'Pre-event product for burned area delineation'),\n",
    "                  ('value', '/tmp/mql_19ii/'), \n",
    "                  ('type', 'Directory')])"
   ]
  },
  {
   "cell_type": "code",
   "execution_count": 3,
   "metadata": {},
   "outputs": [],
   "source": [
    "post_event = dict([('id', 'post_event'), \n",
    "                  ('label', 'Post-event product for burned area delineation'),\n",
    "                  ('doc', 'Post-event product for burned area delineation'),\n",
    "                  ('value', '/tmp/j9o12gpe/'), \n",
    "                  ('type', 'Directory')])"
   ]
  },
  {
   "cell_type": "code",
   "execution_count": 4,
   "metadata": {},
   "outputs": [],
   "source": [
    "ndvi_threshold = dict([('id', 'ndvi_threshold'),\n",
    "                       ('value', '0.19'),\n",
    "                       ('label', 'NDVI difference threshold'),\n",
    "                       ('doc', 'NDVI difference threshold'),\n",
    "                       ('type', 'string')]) "
   ]
  },
  {
   "cell_type": "code",
   "execution_count": 21,
   "metadata": {},
   "outputs": [],
   "source": [
    "ndwi_threshold = dict([('id', 'ndwi_threshold'),\n",
    "                       ('value', '0.18'),\n",
    "                       ('label', 'NDWI difference threshold'),\n",
    "                       ('doc', 'NDWI difference threshold'),\n",
    "                       ('type', 'string')]) "
   ]
  },
  {
   "cell_type": "code",
   "execution_count": 22,
   "metadata": {},
   "outputs": [],
   "source": [
    "store_apikey = dict([('id', ''),\n",
    "                       ('value', 'Ufjh10ywUU'),\n",
    "                       ('label', 'Store API key'),\n",
    "                       ('doc', 'Store API key'),\n",
    "                       ('type', 'string')]) "
   ]
  },
  {
   "cell_type": "code",
   "execution_count": 23,
   "metadata": {},
   "outputs": [],
   "source": [
    "store_username = dict([('id', ''),\n",
    "                       ('value', 'eoepca-demo-storage'),\n",
    "                       ('label', 'Store username'),\n",
    "                       ('doc', 'Store username'),\n",
    "                       ('type', 'string')]) "
   ]
  },
  {
   "cell_type": "code",
   "execution_count": 24,
   "metadata": {},
   "outputs": [],
   "source": [
    "username = None if store_username['value'] == '' else store_username['value']\n",
    "api_key = None if store_apikey['value'] == '' else store_apikey['value']"
   ]
  },
  {
   "cell_type": "code",
   "execution_count": 25,
   "metadata": {},
   "outputs": [],
   "source": [
    "import os\n",
    "import sys\n",
    "import gdal\n",
    "import numpy as np\n",
    "import logging\n",
    "from pystac import *\n",
    "from time import sleep\n",
    "from helpers import *\n",
    "import shutil\n",
    "\n",
    "gdal.UseExceptions()\n",
    "\n",
    "if not 'PREFIX' in os.environ.keys():\n",
    "    \n",
    "    os.environ['PREFIX'] = '/opt/anaconda/envs/env_burned_area_delineation'\n",
    "\n",
    "os.environ['GDAL_DATA'] =  os.path.join(os.environ['PREFIX'], 'share/gdal')\n",
    "os.environ['PROJ_LIB'] = os.path.join(os.environ['PREFIX'], 'share/proj')"
   ]
  },
  {
   "cell_type": "code",
   "execution_count": 26,
   "metadata": {},
   "outputs": [
    {
     "name": "stdout",
     "output_type": "stream",
     "text": [
      "The autoreload extension is already loaded. To reload it, use:\n",
      "  %reload_ext autoreload\n"
     ]
    }
   ],
   "source": [
    "%load_ext autoreload\n",
    "%autoreload 2"
   ]
  },
  {
   "cell_type": "code",
   "execution_count": 27,
   "metadata": {},
   "outputs": [],
   "source": [
    "pre_event_cat = Catalog.from_file(os.path.join(pre_event['value'], 'catalog.json'))\n",
    "post_event_cat = Catalog.from_file(os.path.join(post_event['value'], 'catalog.json'))"
   ]
  },
  {
   "cell_type": "code",
   "execution_count": 28,
   "metadata": {},
   "outputs": [
    {
     "name": "stdout",
     "output_type": "stream",
     "text": [
      "* <Catalog id=catalog>\n",
      "  * <Item id=INDEX_S2B_MSIL2A_20201006T004709_N0214_R102_T53HPA_20201006T022805>\n"
     ]
    }
   ],
   "source": [
    "pre_event_cat.describe()"
   ]
  },
  {
   "cell_type": "code",
   "execution_count": 29,
   "metadata": {},
   "outputs": [
    {
     "name": "stdout",
     "output_type": "stream",
     "text": [
      "* <Catalog id=catalog>\n",
      "  * <Item id=INDEX_S2B_MSIL2A_20201006T004709_N0214_R102_T53HPA_20201006T022805>\n"
     ]
    }
   ],
   "source": [
    "post_event_cat.describe()"
   ]
  },
  {
   "cell_type": "code",
   "execution_count": 30,
   "metadata": {},
   "outputs": [],
   "source": [
    "pre_event_item = next(pre_event_cat.get_items())\n",
    "post_event_item = next(post_event_cat.get_items())"
   ]
  },
  {
   "cell_type": "code",
   "execution_count": 31,
   "metadata": {},
   "outputs": [],
   "source": [
    "asset_pre_ndvi, asset_pre_ndwi, asset_pre_nbr = get_assets(pre_event_item)\n",
    "asset_post_ndvi, asset_post_ndwi, asset_post_nbr = get_assets(post_event_item)"
   ]
  },
  {
   "cell_type": "code",
   "execution_count": 32,
   "metadata": {},
   "outputs": [
    {
     "data": {
      "text/plain": [
       "('https://nx10438.your-storageshare.de/remote.php/dav/files/eoepca-demo-storage/wf-xwz-vegetation-index/j2yo5b37/INDEX_S2B_MSIL2A_20201006T004709_N0214_R102_T53HPA_20201006T022805/NDVI_S2B_MSIL2A_20201006T004709_N0214_R102_T53HPA_20201006T022805.tif',\n",
       " 'https://nx10438.your-storageshare.de/remote.php/dav/files/eoepca-demo-storage/wf-xwz-vegetation-index/j2yo5b37/INDEX_S2B_MSIL2A_20201006T004709_N0214_R102_T53HPA_20201006T022805/NDWI_S2B_MSIL2A_20201006T004709_N0214_R102_T53HPA_20201006T022805.tif',\n",
       " 'https://nx10438.your-storageshare.de/remote.php/dav/files/eoepca-demo-storage/wf-xwz-vegetation-index/j2yo5b37/INDEX_S2B_MSIL2A_20201006T004709_N0214_R102_T53HPA_20201006T022805/NBR_S2B_MSIL2A_20201006T004709_N0214_R102_T53HPA_20201006T022805.tif')"
      ]
     },
     "execution_count": 32,
     "metadata": {},
     "output_type": "execute_result"
    }
   ],
   "source": [
    "asset_pre_ndvi, asset_pre_ndwi, asset_pre_nbr"
   ]
  },
  {
   "cell_type": "code",
   "execution_count": 33,
   "metadata": {},
   "outputs": [
    {
     "data": {
      "text/plain": [
       "('https://nx10438.your-storageshare.de/remote.php/dav/files/eoepca-demo-storage/wf-xwz-vegetation-index/iddysyz9/INDEX_S2B_MSIL2A_20201006T004709_N0214_R102_T53HPA_20201006T022805/NDVI_S2B_MSIL2A_20201006T004709_N0214_R102_T53HPA_20201006T022805.tif',\n",
       " 'https://nx10438.your-storageshare.de/remote.php/dav/files/eoepca-demo-storage/wf-xwz-vegetation-index/iddysyz9/INDEX_S2B_MSIL2A_20201006T004709_N0214_R102_T53HPA_20201006T022805/NDWI_S2B_MSIL2A_20201006T004709_N0214_R102_T53HPA_20201006T022805.tif',\n",
       " 'https://nx10438.your-storageshare.de/remote.php/dav/files/eoepca-demo-storage/wf-xwz-vegetation-index/iddysyz9/INDEX_S2B_MSIL2A_20201006T004709_N0214_R102_T53HPA_20201006T022805/NBR_S2B_MSIL2A_20201006T004709_N0214_R102_T53HPA_20201006T022805.tif')"
      ]
     },
     "execution_count": 33,
     "metadata": {},
     "output_type": "execute_result"
    }
   ],
   "source": [
    "asset_post_ndvi, asset_post_ndwi, asset_post_nbr"
   ]
  },
  {
   "cell_type": "code",
   "execution_count": 34,
   "metadata": {},
   "outputs": [
    {
     "data": {
      "text/plain": [
       "0.0001"
      ]
     },
     "execution_count": 34,
     "metadata": {},
     "output_type": "execute_result"
    }
   ],
   "source": [
    "scaling_factor = 1/10000\n",
    "\n",
    "scaling_factor"
   ]
  },
  {
   "cell_type": "markdown",
   "metadata": {},
   "source": [
    "If NDWI i2 - NDWI i1 > 0.18 and If NDVI i2 - NDVI i1 > 0.19 then burned pixels"
   ]
  },
  {
   "cell_type": "code",
   "execution_count": 35,
   "metadata": {},
   "outputs": [],
   "source": [
    "_mem = '/vsimem/mem.tif'"
   ]
  },
  {
   "cell_type": "markdown",
   "metadata": {},
   "source": [
    "Process NDVI difference"
   ]
  },
  {
   "cell_type": "code",
   "execution_count": 36,
   "metadata": {},
   "outputs": [],
   "source": [
    "temp_ds = gdal.Translate(_mem,\n",
    "                         get_gdal_asset_path(asset_pre_ndvi, username, api_key),\n",
    "                         outputType=gdal.GDT_Int16)\n",
    "\n",
    "width = temp_ds.RasterXSize\n",
    "height = temp_ds.RasterYSize\n",
    "geo_transform = temp_ds.GetGeoTransform()\n",
    "geo_ref = temp_ds.GetProjectionRef()\n",
    "\n",
    "pre_ndvi = temp_ds.ReadAsArray()\n",
    "\n",
    "temp_ds = None"
   ]
  },
  {
   "cell_type": "code",
   "execution_count": 37,
   "metadata": {},
   "outputs": [],
   "source": [
    "temp_ds = gdal.Translate(_mem,\n",
    "                         get_gdal_asset_path(asset_post_ndvi, username, api_key),\n",
    "                         outputType=gdal.GDT_Int16)\n",
    "\n",
    "post_ndvi = temp_ds.ReadAsArray()\n",
    "\n",
    "temp_ds = None"
   ]
  },
  {
   "cell_type": "code",
   "execution_count": null,
   "metadata": {},
   "outputs": [],
   "source": [
    "delta_ndvi = ((pre_ndvi - post_ndvi) * scaling_factor).astype(float)\n",
    "\n",
    "pre_ndvi = post_ndvi = None"
   ]
  },
  {
   "cell_type": "markdown",
   "metadata": {},
   "source": [
    "Process NDWI difference"
   ]
  },
  {
   "cell_type": "code",
   "execution_count": null,
   "metadata": {},
   "outputs": [],
   "source": [
    "temp_ds = gdal.Translate(_mem,\n",
    "                         get_gdal_asset_path(asset_pre_ndwi, username, api_key),\n",
    "                         outputType=gdal.GDT_Int16)\n",
    "\n",
    "pre_ndwi = temp_ds.ReadAsArray()\n",
    "\n",
    "temp_ds = None"
   ]
  },
  {
   "cell_type": "code",
   "execution_count": null,
   "metadata": {},
   "outputs": [],
   "source": [
    "temp_ds = gdal.Translate(_mem,\n",
    "                         get_gdal_asset_path(asset_post_ndwi, username, api_key),\n",
    "                         outputType=gdal.GDT_Int16)\n",
    "\n",
    "post_ndwi = temp_ds.ReadAsArray()\n",
    "\n",
    "temp_ds = None"
   ]
  },
  {
   "cell_type": "code",
   "execution_count": null,
   "metadata": {},
   "outputs": [],
   "source": [
    "delta_ndwi = ((pre_ndwi - post_ndwi) * scaling_factor).astype(float)\n",
    "\n",
    "pre_ndwi = post_ndwi = None"
   ]
  },
  {
   "cell_type": "markdown",
   "metadata": {},
   "source": [
    "Burned area delineation"
   ]
  },
  {
   "cell_type": "code",
   "execution_count": null,
   "metadata": {},
   "outputs": [],
   "source": [
    "burned = np.where(((delta_ndwi  > float(ndwi_threshold['value'])) & (delta_ndvi > float(ndvi_threshold['value']))), 1, 0) "
   ]
  },
  {
   "cell_type": "code",
   "execution_count": null,
   "metadata": {},
   "outputs": [],
   "source": [
    "output_name = 'DELINEATION'"
   ]
  },
  {
   "cell_type": "code",
   "execution_count": null,
   "metadata": {},
   "outputs": [],
   "source": [
    "default_bands = [{'name': 'dnbr',\n",
    "                  'common_name': 'dNBR'}, \n",
    "                 {'name': 'tvi',\n",
    "                  'common_name': 'tvi'}]"
   ]
  },
  {
   "cell_type": "code",
   "execution_count": null,
   "metadata": {},
   "outputs": [],
   "source": [
    "temp_name = '_BURNED_NDVI_NDWI_THRESHOLD.tif'\n",
    "output_name = 'BURNED_NDVI_NDWI_THRESHOLD.tif'\n",
    "\n",
    "driver = gdal.GetDriverByName('GTiff')\n",
    "\n",
    "output = driver.Create(temp_name, \n",
    "                       width, \n",
    "                       height, \n",
    "                       1, \n",
    "                       gdal.GDT_Byte)\n",
    "\n",
    "output.SetGeoTransform(geo_transform)\n",
    "output.SetProjection(geo_ref)\n",
    "output.GetRasterBand(1).WriteArray(burned),\n",
    "\n",
    "output.FlushCache()\n",
    "\n",
    "sleep(5)\n",
    "\n",
    "output = None\n",
    "\n",
    "del(output)\n",
    "\n",
    "cog(temp_name, output_name)"
   ]
  },
  {
   "cell_type": "code",
   "execution_count": null,
   "metadata": {},
   "outputs": [],
   "source": [
    "results = {}\n",
    "\n",
    "results['B01'] = output_name\n"
   ]
  },
  {
   "cell_type": "markdown",
   "metadata": {},
   "source": [
    "relativized burn ratio (RBR) "
   ]
  },
  {
   "cell_type": "code",
   "execution_count": null,
   "metadata": {},
   "outputs": [],
   "source": [
    "temp_ds = gdal.Translate(_mem,\n",
    "                         get_gdal_asset_path(asset_pre_nbr, username, api_key),\n",
    "                         outputType=gdal.GDT_Int16)\n",
    "\n",
    "pre_nbr = temp_ds.ReadAsArray()\n",
    "\n",
    "temp_ds = None"
   ]
  },
  {
   "cell_type": "code",
   "execution_count": null,
   "metadata": {},
   "outputs": [],
   "source": [
    "temp_ds = gdal.Translate(_mem,\n",
    "                         get_gdal_asset_path(asset_post_nbr, username, api_key),\n",
    "                         outputType=gdal.GDT_Int16)\n",
    "\n",
    "post_nbr = temp_ds.ReadAsArray()\n",
    "\n",
    "temp_ds = None"
   ]
  },
  {
   "cell_type": "code",
   "execution_count": null,
   "metadata": {},
   "outputs": [],
   "source": [
    "delta_nbr = ((pre_nbr  - post_nbr) * scaling_factor).astype(float)\n",
    "\n",
    "post_nbr = None"
   ]
  },
  {
   "cell_type": "code",
   "execution_count": null,
   "metadata": {},
   "outputs": [],
   "source": [
    "rbr = delta_nbr / (pre_nbr * scaling_factor + 1.001)\n",
    "\n",
    "delta_nbr = pre_nbr = None"
   ]
  },
  {
   "cell_type": "code",
   "execution_count": null,
   "metadata": {},
   "outputs": [],
   "source": [
    "temp_name = '_BURNED_RBR.tif'\n",
    "output_name = 'BURNED_RBR.tif'\n",
    "\n",
    "driver = gdal.GetDriverByName('GTiff')\n",
    "\n",
    "output = driver.Create(temp_name, \n",
    "                       width, \n",
    "                       height, \n",
    "                       1, \n",
    "                       gdal.GDT_Float32)\n",
    "\n",
    "output.SetGeoTransform(geo_transform)\n",
    "output.SetProjection(geo_ref)\n",
    "output.GetRasterBand(1).WriteArray(rbr),\n",
    "\n",
    "output.FlushCache()\n",
    "\n",
    "sleep(5)\n",
    "\n",
    "output = None\n",
    "\n",
    "del(output)\n",
    "\n",
    "cog(temp_name, output_name)"
   ]
  },
  {
   "cell_type": "code",
   "execution_count": null,
   "metadata": {},
   "outputs": [],
   "source": [
    "results['B02'] = output_name"
   ]
  },
  {
   "cell_type": "code",
   "execution_count": null,
   "metadata": {},
   "outputs": [],
   "source": [
    "catalog = Catalog(id='catalog',\n",
    "                      description='Results')\n",
    "\n",
    "catalog.clear_items()\n",
    "catalog.clear_children()"
   ]
  },
  {
   "cell_type": "code",
   "execution_count": null,
   "metadata": {},
   "outputs": [],
   "source": [
    "item_name = 'BURNED_AREA_DELINEATION'\n",
    "\n",
    "\n",
    "pre_event_item.properties.pop('eo:bands', None)\n",
    "\n",
    "result_item = Item(id=item_name,\n",
    "                   geometry=pre_event_item.geometry,\n",
    "                   bbox=pre_event_item.bbox,\n",
    "                   datetime=pre_event_item.datetime,\n",
    "                   properties=pre_event_item.properties)\n",
    "\n",
    "result_item.common_metadata.set_gsd(10)\n",
    "\n",
    "eo_item = extensions.eo.EOItemExt(result_item)"
   ]
  },
  {
   "cell_type": "code",
   "execution_count": null,
   "metadata": {},
   "outputs": [],
   "source": [
    "results"
   ]
  },
  {
   "cell_type": "code",
   "execution_count": null,
   "metadata": {},
   "outputs": [],
   "source": [
    "default_bands = {'B01':  {'name': 'NDVI/NDWI Threshold', 'common_name': 'tvi'},\n",
    "                 'B02': {'name': 'Normalized Burn Ratio (NBR) ', 'common_name': 'dnbr'}}"
   ]
  },
  {
   "cell_type": "code",
   "execution_count": null,
   "metadata": {},
   "outputs": [],
   "source": [
    "bands = []\n",
    "   \n",
    "os.makedirs(os.path.join('.', item_name),\n",
    "                exist_ok=True)\n",
    "\n",
    "for key, value in results.items():\n",
    "\n",
    "    print(key, value)\n",
    "    \n",
    "    \n",
    "\n",
    "    result_item.add_asset(key=key,\n",
    "                          asset=Asset(href='./{}'.format(value), \n",
    "                                    media_type=MediaType.GEOTIFF))\n",
    "\n",
    "    asset = result_item.get_assets()[key]                                   \n",
    "\n",
    "    stac_band = extensions.eo.Band.create(name=key, \n",
    "                                           common_name=default_bands[key]['common_name'],\n",
    "                                                description=default_bands[key]['name'])\n",
    "    bands.append(stac_band)\n",
    "\n",
    "    eo_item.set_bands([stac_band], asset=asset)\n",
    "\n",
    "    shutil.move(value, os.path.join('.', item_name, value))\n",
    "    \n",
    "eo_item.set_bands(bands)\n",
    "\n",
    "eo_item.apply(bands)  "
   ]
  },
  {
   "cell_type": "markdown",
   "metadata": {},
   "source": [
    "### Results verification"
   ]
  },
  {
   "cell_type": "code",
   "execution_count": null,
   "metadata": {},
   "outputs": [],
   "source": [
    "catalog.add_items([result_item])\n",
    "    \n",
    "catalog.normalize_and_save(root_href='./',\n",
    "                           catalog_type=CatalogType.SELF_CONTAINED)"
   ]
  },
  {
   "cell_type": "code",
   "execution_count": null,
   "metadata": {},
   "outputs": [],
   "source": [
    "catalog.describe()"
   ]
  },
  {
   "cell_type": "code",
   "execution_count": null,
   "metadata": {},
   "outputs": [],
   "source": [
    "item = next(catalog.get_items())"
   ]
  },
  {
   "cell_type": "code",
   "execution_count": null,
   "metadata": {},
   "outputs": [],
   "source": [
    "item.get_assets()"
   ]
  },
  {
   "cell_type": "code",
   "execution_count": null,
   "metadata": {},
   "outputs": [],
   "source": [
    "asset = item.get_assets()['B01']\n",
    "asset.get_absolute_href()"
   ]
  },
  {
   "cell_type": "code",
   "execution_count": null,
   "metadata": {},
   "outputs": [],
   "source": [
    "asset = item.get_assets()['B02']\n",
    "asset.get_absolute_href()"
   ]
  },
  {
   "cell_type": "code",
   "execution_count": null,
   "metadata": {},
   "outputs": [],
   "source": [
    "eo_item = extensions.eo.EOItemExt(item)\n",
    "    \n",
    "for index, band in enumerate(eo_item.bands):\n",
    "\n",
    "    if band.common_name in ['tvi']:\n",
    "\n",
    "        print(band.common_name, item.assets[band.name].get_absolute_href())\n",
    "        \n",
    "    if band.common_name in ['dnbr']:\n",
    "\n",
    "        print(band.common_name, item.assets[band.name].get_absolute_href())"
   ]
  },
  {
   "cell_type": "code",
   "execution_count": null,
   "metadata": {},
   "outputs": [],
   "source": []
  }
 ],
 "metadata": {
  "kernelspec": {
   "display_name": "Python [conda env:env_burned_area_delineation]",
   "language": "python",
   "name": "conda-env-env_burned_area_delineation-py"
  },
  "language_info": {
   "codemirror_mode": {
    "name": "ipython",
    "version": 3
   },
   "file_extension": ".py",
   "mimetype": "text/x-python",
   "name": "python",
   "nbconvert_exporter": "python",
   "pygments_lexer": "ipython3",
   "version": "3.7.8"
  }
 },
 "nbformat": 4,
 "nbformat_minor": 4
}
